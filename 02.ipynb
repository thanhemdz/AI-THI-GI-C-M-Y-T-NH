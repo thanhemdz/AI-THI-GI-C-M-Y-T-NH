{
 "cells": [
  {
   "cell_type": "code",
   "execution_count": 47,
   "id": "ea5a3767-b528-4b51-99ee-b8f1e6f86347",
   "metadata": {},
   "outputs": [
    {
     "ename": "SyntaxError",
     "evalue": "invalid syntax (imgtools.py, line 9)",
     "output_type": "error",
     "traceback": [
      "Traceback \u001b[1;36m(most recent call last)\u001b[0m:\n",
      "\u001b[0m  File \u001b[0;32mD:\\anaconda3\\Lib\\site-packages\\IPython\\core\\interactiveshell.py:3577\u001b[0m in \u001b[0;35mrun_code\u001b[0m\n    exec(code_obj, self.user_global_ns, self.user_ns)\u001b[0m\n",
      "\u001b[1;36m  Cell \u001b[1;32mIn[47], line 2\u001b[1;36m\n\u001b[1;33m    from imgtools import *\u001b[1;36m\n",
      "\u001b[1;36m  File \u001b[1;32m~\\Documents\\Python AI\\imgtools.py:9\u001b[1;36m\u001b[0m\n\u001b[1;33m    except Exception as e:\u001b[0m\n\u001b[1;37m    ^\u001b[0m\n\u001b[1;31mSyntaxError\u001b[0m\u001b[1;31m:\u001b[0m invalid syntax\n"
     ]
    }
   ],
   "source": [
    "from PIL import Image\n",
    "from imgtools import *"
   ]
  },
  {
   "cell_type": "code",
   "execution_count": 18,
   "id": "ed25ffbc-4157-49f9-b0af-523fbcdd30c6",
   "metadata": {},
   "outputs": [],
   "source": [
    "# thu muc chua anh\n",
    "dir = 'C:/Users/ADMIN/Documents/Python AI/img/01'"
   ]
  },
  {
   "cell_type": "code",
   "execution_count": 32,
   "id": "a16d88e0-5932-4ea3-b141-f2d6510e1e83",
   "metadata": {},
   "outputs": [
    {
     "name": "stdout",
     "output_type": "stream",
     "text": [
      "C:/Users/ADMIN/Documents/Python AI/img/01/1.JPG\n"
     ]
    }
   ],
   "source": [
    "# duong dan toi hinh anh\n",
    "image_path = dir + '/1.JPG'\n",
    "print(image_path)"
   ]
  },
  {
   "cell_type": "code",
   "execution_count": 44,
   "id": "71e8b813-1de9-42f5-8181-424137ae778f",
   "metadata": {},
   "outputs": [],
   "source": [
    "# sử dụng hàm đọc ảnh Image.open() đọc ảnh\n",
    "img1 = Image.open(image_path)"
   ]
  },
  {
   "cell_type": "code",
   "execution_count": 45,
   "id": "37d27547-7421-434f-90a7-9738b5dbe59e",
   "metadata": {},
   "outputs": [],
   "source": [
    "img1.show()\n",
    "# show ảnh "
   ]
  },
  {
   "cell_type": "code",
   "execution_count": 35,
   "id": "e0acd863-e646-4b25-acff-2079b1be6a63",
   "metadata": {},
   "outputs": [
    {
     "name": "stdout",
     "output_type": "stream",
     "text": [
      "JPEG\n"
     ]
    }
   ],
   "source": [
    "# in định dạng ảnh\n",
    "print(img1.format)"
   ]
  },
  {
   "cell_type": "code",
   "execution_count": 36,
   "id": "dea90eb4-4078-4f0e-bf4d-4e868f249891",
   "metadata": {},
   "outputs": [
    {
     "name": "stdout",
     "output_type": "stream",
     "text": [
      "(500, 332)\n"
     ]
    }
   ],
   "source": [
    "print(img1.size)"
   ]
  },
  {
   "cell_type": "code",
   "execution_count": 37,
   "id": "099c8d26-e866-4c6f-bcf5-7827b1b95a12",
   "metadata": {},
   "outputs": [],
   "source": [
    "# đóng tập tin\n",
    "img1.close()"
   ]
  },
  {
   "cell_type": "code",
   "execution_count": 46,
   "id": "907393c6-f507-46da-82db-e9bac19644c4",
   "metadata": {},
   "outputs": [
    {
     "name": "stdout",
     "output_type": "stream",
     "text": [
      "C:/Users/ADMIN/Documents/Python AI/img/01/new_01.JPG\n"
     ]
    }
   ],
   "source": [
    "# lưu ảnh hoặc đổi tên\n",
    "new_Img1_path = dir + '/new_01.JPG'\n",
    "new_Img1_path_png = dir + '/new_01.PNG'\n",
    "print(new_Img1_path)\n",
    "img1.save(new_Img1_path)"
   ]
  },
  {
   "cell_type": "code",
   "execution_count": null,
   "id": "a4966c31-13d9-4dd8-a339-091765df2e68",
   "metadata": {},
   "outputs": [],
   "source": []
  },
  {
   "cell_type": "code",
   "execution_count": null,
   "id": "d915c4d8-e478-443a-a5c3-c070070ec4b0",
   "metadata": {},
   "outputs": [],
   "source": []
  }
 ],
 "metadata": {
  "kernelspec": {
   "display_name": "Python 3 (ipykernel)",
   "language": "python",
   "name": "python3"
  },
  "language_info": {
   "codemirror_mode": {
    "name": "ipython",
    "version": 3
   },
   "file_extension": ".py",
   "mimetype": "text/x-python",
   "name": "python",
   "nbconvert_exporter": "python",
   "pygments_lexer": "ipython3",
   "version": "3.12.4"
  }
 },
 "nbformat": 4,
 "nbformat_minor": 5
}
